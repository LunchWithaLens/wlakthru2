{
 "cells": [
  {
   "cell_type": "markdown",
   "id": "882d8d92-6f94-456c-bb65-597febfe002c",
   "metadata": {},
   "source": [
    "# Hello"
   ]
  },
  {
   "cell_type": "markdown",
   "id": "24337abe-afd2-4aa3-8c42-fbf83dff6262",
   "metadata": {},
   "source": [
    "This is how to calc 1+1"
   ]
  },
  {
   "cell_type": "code",
   "execution_count": 1,
   "id": "411842f8-7967-453a-94cb-8a6cf8cfc47f",
   "metadata": {},
   "outputs": [
    {
     "data": {
      "text/plain": [
       "2"
      ]
     },
     "execution_count": 1,
     "metadata": {},
     "output_type": "execute_result"
    }
   ],
   "source": [
    "1+1"
   ]
  },
  {
   "cell_type": "code",
   "execution_count": 2,
   "id": "8a2618b6-fbfe-47d4-ad0a-efefb6170ee7",
   "metadata": {},
   "outputs": [],
   "source": [
    "from numpy import *"
   ]
  },
  {
   "cell_type": "markdown",
   "id": "17a93dba-4117-4c45-995c-986767411438",
   "metadata": {},
   "source": [
    "Here is how I calculate sin"
   ]
  },
  {
   "cell_type": "code",
   "execution_count": 4,
   "id": "dac62f96-ccd3-49f6-9744-baa2072072d5",
   "metadata": {},
   "outputs": [
    {
     "data": {
      "text/plain": [
       "array([0.84147098, 1.        ])"
      ]
     },
     "execution_count": 4,
     "metadata": {},
     "output_type": "execute_result"
    }
   ],
   "source": [
    "a=array([1.0, pi/2])\n",
    "sin(a)"
   ]
  },
  {
   "cell_type": "code",
   "execution_count": null,
   "id": "9e0d6dfc-f385-476d-9643-52a0a8ddca1e",
   "metadata": {},
   "outputs": [],
   "source": []
  }
 ],
 "metadata": {
  "kernelspec": {
   "display_name": "Python 3 (ipykernel)",
   "language": "python",
   "name": "python3"
  },
  "language_info": {
   "codemirror_mode": {
    "name": "ipython",
    "version": 3
   },
   "file_extension": ".py",
   "mimetype": "text/x-python",
   "name": "python",
   "nbconvert_exporter": "python",
   "pygments_lexer": "ipython3",
   "version": "3.9.13"
  }
 },
 "nbformat": 4,
 "nbformat_minor": 5
}
